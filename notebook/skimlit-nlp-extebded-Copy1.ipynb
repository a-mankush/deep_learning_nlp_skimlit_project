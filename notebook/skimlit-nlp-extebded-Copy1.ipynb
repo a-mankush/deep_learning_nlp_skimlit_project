{
 "cells": [
  {
   "cell_type": "code",
   "execution_count": 34,
   "metadata": {
    "execution": {
     "iopub.execute_input": "2024-02-24T17:22:27.533773Z",
     "iopub.status.busy": "2024-02-24T17:22:27.532954Z",
     "iopub.status.idle": "2024-02-24T17:23:25.589117Z",
     "shell.execute_reply": "2024-02-24T17:23:25.587850Z",
     "shell.execute_reply.started": "2024-02-24T17:22:27.533739Z"
    }
   },
   "outputs": [
    {
     "name": "stdout",
     "output_type": "stream",
     "text": [
      "  adding: model_8b_char_customtoken_line_total/ (stored 0%)\n",
      "  adding: model_8b_char_customtoken_line_total/saved_model.pb (deflated 87%)\n",
      "  adding: model_8b_char_customtoken_line_total/variables/ (stored 0%)\n",
      "  adding: model_8b_char_customtoken_line_total/variables/variables.data-00000-of-00001 (deflated 24%)\n",
      "  adding: model_8b_char_customtoken_line_total/variables/variables.index (deflated 70%)\n",
      "  adding: model_8b_char_customtoken_line_total/fingerprint.pb (stored 0%)\n",
      "  adding: model_8b_char_customtoken_line_total/keras_metadata.pb (deflated 93%)\n",
      "  adding: model_8b_char_customtoken_line_total/assets/ (stored 0%)\n"
     ]
    }
   ],
   "source": [
    "model_8b.save(\"model_8b_char_customtoken_line_total\")\n",
    "!zip -r file.zip model_8b_char_customtoken_line_total\n"
   ]
  },
  {
   "cell_type": "code",
   "execution_count": 35,
   "metadata": {
    "execution": {
     "iopub.execute_input": "2024-02-24T17:23:25.592066Z",
     "iopub.status.busy": "2024-02-24T17:23:25.591717Z",
     "iopub.status.idle": "2024-02-24T17:23:26.632967Z",
     "shell.execute_reply": "2024-02-24T17:23:26.632019Z",
     "shell.execute_reply.started": "2024-02-24T17:23:25.592034Z"
    }
   },
   "outputs": [
    {
     "name": "stdout",
     "output_type": "stream",
     "text": [
      "__pycache__  helper_functions.py\t\t   pubmed-rct\n",
      "file.zip     model_8b_char_customtoken_line_total\n"
     ]
    }
   ],
   "source": [
    "!ls"
   ]
  },
  {
   "cell_type": "code",
   "execution_count": 36,
   "metadata": {
    "execution": {
     "iopub.execute_input": "2024-02-24T17:23:58.781215Z",
     "iopub.status.busy": "2024-02-24T17:23:58.780766Z",
     "iopub.status.idle": "2024-02-24T17:23:58.789441Z",
     "shell.execute_reply": "2024-02-24T17:23:58.788470Z",
     "shell.execute_reply.started": "2024-02-24T17:23:58.781182Z"
    }
   },
   "outputs": [
    {
     "data": {
      "text/html": [
       "<a href='file.zip' target='_blank'>file.zip</a><br>"
      ],
      "text/plain": [
       "/kaggle/working/file.zip"
      ]
     },
     "execution_count": 36,
     "metadata": {},
     "output_type": "execute_result"
    }
   ],
   "source": [
    "from IPython.display import FileLink\n",
    "FileLink(r'file.zip')"
   ]
  },
  {
   "cell_type": "code",
   "execution_count": 38,
   "metadata": {
    "execution": {
     "iopub.execute_input": "2024-02-24T17:24:35.013362Z",
     "iopub.status.busy": "2024-02-24T17:24:35.012669Z",
     "iopub.status.idle": "2024-02-24T17:24:58.607185Z",
     "shell.execute_reply": "2024-02-24T17:24:58.606338Z",
     "shell.execute_reply.started": "2024-02-24T17:24:35.013328Z"
    }
   },
   "outputs": [],
   "source": [
    "loaded_8b = keras.models.load_model(\"model_8b_char_customtoken_line_total\")"
   ]
  },
  {
   "cell_type": "code",
   "execution_count": 39,
   "metadata": {
    "execution": {
     "iopub.execute_input": "2024-02-24T17:25:57.439596Z",
     "iopub.status.busy": "2024-02-24T17:25:57.439169Z",
     "iopub.status.idle": "2024-02-24T17:26:15.419412Z",
     "shell.execute_reply": "2024-02-24T17:26:15.418572Z",
     "shell.execute_reply.started": "2024-02-24T17:25:57.439562Z"
    }
   },
   "outputs": [
    {
     "name": "stdout",
     "output_type": "stream",
     "text": [
      "945/945 [==============================] - 18s 13ms/step - loss: 0.8386 - accuracy: 0.8858\n"
     ]
    },
    {
     "data": {
      "text/plain": [
       "[0.838618278503418, 0.8857738375663757]"
      ]
     },
     "execution_count": 39,
     "metadata": {},
     "output_type": "execute_result"
    }
   ],
   "source": [
    "loaded_8b.evaluate(val_char_token_pos_dataset)"
   ]
  },
  {
   "cell_type": "code",
   "execution_count": null,
   "metadata": {},
   "outputs": [],
   "source": []
  }
 ],
 "metadata": {
  "kaggle": {
   "accelerator": "nvidiaTeslaT4",
   "dataSources": [
    {
     "modelInstanceId": 1899,
     "sourceId": 2622,
     "sourceType": "modelInstanceVersion"
    },
    {
     "modelInstanceId": 2180,
     "sourceId": 2938,
     "sourceType": "modelInstanceVersion"
    }
   ],
   "dockerImageVersionId": 30648,
   "isGpuEnabled": true,
   "isInternetEnabled": true,
   "language": "python",
   "sourceType": "notebook"
  },
  "kernelspec": {
   "display_name": "Python 3 (ipykernel)",
   "language": "python",
   "name": "python3"
  },
  "language_info": {
   "codemirror_mode": {
    "name": "ipython",
    "version": 3
   },
   "file_extension": ".py",
   "mimetype": "text/x-python",
   "name": "python",
   "nbconvert_exporter": "python",
   "pygments_lexer": "ipython3",
   "version": "3.11.2"
  }
 },
 "nbformat": 4,
 "nbformat_minor": 4
}
